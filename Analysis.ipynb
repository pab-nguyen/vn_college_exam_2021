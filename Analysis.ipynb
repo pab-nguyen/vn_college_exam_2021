{
 "cells": [
  {
   "cell_type": "code",
   "execution_count": 132,
   "metadata": {},
   "outputs": [],
   "source": [
    "import pandas as pd\n",
    "import os"
   ]
  },
  {
   "cell_type": "markdown",
   "metadata": {},
   "source": [
    "## Transform data"
   ]
  },
  {
   "cell_type": "markdown",
   "metadata": {},
   "source": [
    "### Join files"
   ]
  },
  {
   "cell_type": "markdown",
   "metadata": {},
   "source": [
    "Get all the files name"
   ]
  },
  {
   "cell_type": "code",
   "execution_count": 133,
   "metadata": {},
   "outputs": [
    {
     "name": "stdout",
     "output_type": "stream",
     "text": [
      "['score2021_1-9.csv', 'score2021_10-19.csv', 'score2021_20-29.csv', 'score2021_30-39.csv', 'score2021_40-49.csv', 'score2021_50-59.csv', 'score2021_60-64.csv', 'score2021_full.csv']\n"
     ]
    }
   ],
   "source": [
    "files = [file for file in os.listdir('./score2021')]\n",
    "print (files)\n"
   ]
  },
  {
   "cell_type": "markdown",
   "metadata": {},
   "source": [
    "Iterate through each file, read then append to data"
   ]
  },
  {
   "cell_type": "code",
   "execution_count": 134,
   "metadata": {},
   "outputs": [
    {
     "name": "stdout",
     "output_type": "stream",
     "text": [
      "score2021_1-9.csv\n",
      "score2021_10-19.csv\n",
      "score2021_20-29.csv\n",
      "score2021_30-39.csv\n",
      "score2021_40-49.csv\n",
      "score2021_50-59.csv\n",
      "score2021_60-64.csv\n",
      "score2021_full.csv\n"
     ]
    }
   ],
   "source": [
    "data = pd.DataFrame()\n",
    "\n",
    "for i in files:\n",
    "    print(i)\n",
    "    df = pd.read_csv(\"./score2021/\"+i, encoding='utf-8',sep=\",\", low_memory=False)\n",
    "    data = pd.concat ([data, df])"
   ]
  },
  {
   "cell_type": "markdown",
   "metadata": {},
   "source": [
    "Write data to csv"
   ]
  },
  {
   "cell_type": "code",
   "execution_count": 135,
   "metadata": {},
   "outputs": [],
   "source": [
    "data.to_csv(\"./score2021/score2021_full.csv\", index=False)"
   ]
  },
  {
   "cell_type": "code",
   "execution_count": 136,
   "metadata": {},
   "outputs": [],
   "source": [
    "data = pd.read_csv(\"./score2021/score2021_full.csv\", low_memory=False)\n"
   ]
  },
  {
   "cell_type": "markdown",
   "metadata": {},
   "source": [
    "Drop STT Column, since it is just an index column if the search table returns multiple rows"
   ]
  },
  {
   "cell_type": "code",
   "execution_count": 137,
   "metadata": {},
   "outputs": [],
   "source": [
    "data = data.drop(columns=['STT'])"
   ]
  },
  {
   "cell_type": "markdown",
   "metadata": {},
   "source": [
    "Create Cụm Thi col, which its the code for the area the participants taking the exam"
   ]
  },
  {
   "cell_type": "code",
   "execution_count": 138,
   "metadata": {},
   "outputs": [],
   "source": [
    "data['Cụm Thi'] = data['SBD'].astype('str').str[:-6].astype(\"int64\")"
   ]
  },
  {
   "cell_type": "code",
   "execution_count": 139,
   "metadata": {},
   "outputs": [
    {
     "data": {
      "text/plain": [
       "Cụm Thi            2.679462e+01\n",
       "SBD                2.681105e+07\n",
       "Toán (D1)          6.661982e+00\n",
       "Ngữ văn (D2)       6.471687e+00\n",
       "Vật lí (D3)        6.568335e+00\n",
       "Hóa học (D4)       6.625360e+00\n",
       "Sinh học (D5)      5.527108e+00\n",
       "KHTN (D6)          6.119569e+00\n",
       "Lịch sử (D7)       4.992181e+00\n",
       "Địa lí (D8)        6.968809e+00\n",
       "GDCD (D9)          8.387542e+00\n",
       "KHXH (D10)         7.031638e+00\n",
       "Ngoại ngữ (D11)    5.921230e+00\n",
       "D12                         NaN\n",
       "dtype: float64"
      ]
     },
     "execution_count": 139,
     "metadata": {},
     "output_type": "execute_result"
    }
   ],
   "source": [
    "data.mean(skipna=True)"
   ]
  },
  {
   "cell_type": "code",
   "execution_count": 140,
   "metadata": {},
   "outputs": [],
   "source": [
    "codedat = pd.read_csv(\"./SGD_Code.csv\")"
   ]
  },
  {
   "cell_type": "code",
   "execution_count": 141,
   "metadata": {},
   "outputs": [],
   "source": [
    "newdata = pd.merge(data,codedat,how=\"left\",left_on=['Cụm Thi'], right_on=['Code'])\n",
    "data = newdata"
   ]
  },
  {
   "cell_type": "code",
   "execution_count": 142,
   "metadata": {},
   "outputs": [],
   "source": [
    "data = data.drop(columns=['Code'])"
   ]
  },
  {
   "cell_type": "code",
   "execution_count": 143,
   "metadata": {},
   "outputs": [],
   "source": [
    "data.insert(2,\"Tinh_new\",data[\"Tinh\"])\n",
    "data = data.drop(columns = \"Tinh\")\n",
    "data = data.rename(columns={\"Tinh_new\":\"Tinh\"})"
   ]
  },
  {
   "cell_type": "code",
   "execution_count": 144,
   "metadata": {},
   "outputs": [
    {
     "data": {
      "text/html": [
       "<div>\n",
       "<style scoped>\n",
       "    .dataframe tbody tr th:only-of-type {\n",
       "        vertical-align: middle;\n",
       "    }\n",
       "\n",
       "    .dataframe tbody tr th {\n",
       "        vertical-align: top;\n",
       "    }\n",
       "\n",
       "    .dataframe thead th {\n",
       "        text-align: right;\n",
       "    }\n",
       "</style>\n",
       "<table border=\"1\" class=\"dataframe\">\n",
       "  <thead>\n",
       "    <tr style=\"text-align: right;\">\n",
       "      <th></th>\n",
       "      <th>Cụm Thi</th>\n",
       "      <th>Họ Tên</th>\n",
       "      <th>Tinh</th>\n",
       "      <th>SBD</th>\n",
       "      <th>Ngày sinh</th>\n",
       "      <th>Giới tính</th>\n",
       "      <th>Toán (D1)</th>\n",
       "      <th>Ngữ văn (D2)</th>\n",
       "      <th>Vật lí (D3)</th>\n",
       "      <th>Hóa học (D4)</th>\n",
       "      <th>Sinh học (D5)</th>\n",
       "      <th>KHTN (D6)</th>\n",
       "      <th>Lịch sử (D7)</th>\n",
       "      <th>Địa lí (D8)</th>\n",
       "      <th>GDCD (D9)</th>\n",
       "      <th>KHXH (D10)</th>\n",
       "      <th>Ngoại ngữ (D11)</th>\n",
       "      <th>D12</th>\n",
       "    </tr>\n",
       "  </thead>\n",
       "  <tbody>\n",
       "    <tr>\n",
       "      <th>0</th>\n",
       "      <td>1</td>\n",
       "      <td>NaN</td>\n",
       "      <td>Hà Nội</td>\n",
       "      <td>1000001</td>\n",
       "      <td>NaN</td>\n",
       "      <td>NaN</td>\n",
       "      <td>2.2</td>\n",
       "      <td>3.50</td>\n",
       "      <td>NaN</td>\n",
       "      <td>NaN</td>\n",
       "      <td>NaN</td>\n",
       "      <td>NaN</td>\n",
       "      <td>2.50</td>\n",
       "      <td>5.50</td>\n",
       "      <td>NaN</td>\n",
       "      <td>NaN</td>\n",
       "      <td>NaN</td>\n",
       "      <td>NaN</td>\n",
       "    </tr>\n",
       "    <tr>\n",
       "      <th>1</th>\n",
       "      <td>1</td>\n",
       "      <td>NaN</td>\n",
       "      <td>Hà Nội</td>\n",
       "      <td>1000002</td>\n",
       "      <td>NaN</td>\n",
       "      <td>NaN</td>\n",
       "      <td>9.2</td>\n",
       "      <td>8.25</td>\n",
       "      <td>NaN</td>\n",
       "      <td>NaN</td>\n",
       "      <td>NaN</td>\n",
       "      <td>NaN</td>\n",
       "      <td>5.75</td>\n",
       "      <td>9.75</td>\n",
       "      <td>9.25</td>\n",
       "      <td>NaN</td>\n",
       "      <td>10.0</td>\n",
       "      <td>NaN</td>\n",
       "    </tr>\n",
       "    <tr>\n",
       "      <th>2</th>\n",
       "      <td>1</td>\n",
       "      <td>NaN</td>\n",
       "      <td>Hà Nội</td>\n",
       "      <td>1000003</td>\n",
       "      <td>NaN</td>\n",
       "      <td>NaN</td>\n",
       "      <td>4.4</td>\n",
       "      <td>6.25</td>\n",
       "      <td>NaN</td>\n",
       "      <td>NaN</td>\n",
       "      <td>NaN</td>\n",
       "      <td>NaN</td>\n",
       "      <td>4.25</td>\n",
       "      <td>4.00</td>\n",
       "      <td>NaN</td>\n",
       "      <td>NaN</td>\n",
       "      <td>NaN</td>\n",
       "      <td>NaN</td>\n",
       "    </tr>\n",
       "    <tr>\n",
       "      <th>3</th>\n",
       "      <td>1</td>\n",
       "      <td>NaN</td>\n",
       "      <td>Hà Nội</td>\n",
       "      <td>1000004</td>\n",
       "      <td>NaN</td>\n",
       "      <td>NaN</td>\n",
       "      <td>8.4</td>\n",
       "      <td>6.75</td>\n",
       "      <td>4.00</td>\n",
       "      <td>3.00</td>\n",
       "      <td>3.50</td>\n",
       "      <td>NaN</td>\n",
       "      <td>NaN</td>\n",
       "      <td>NaN</td>\n",
       "      <td>NaN</td>\n",
       "      <td>NaN</td>\n",
       "      <td>10.0</td>\n",
       "      <td>NaN</td>\n",
       "    </tr>\n",
       "    <tr>\n",
       "      <th>4</th>\n",
       "      <td>1</td>\n",
       "      <td>NaN</td>\n",
       "      <td>Hà Nội</td>\n",
       "      <td>1000005</td>\n",
       "      <td>NaN</td>\n",
       "      <td>NaN</td>\n",
       "      <td>8.8</td>\n",
       "      <td>8.25</td>\n",
       "      <td>8.25</td>\n",
       "      <td>5.75</td>\n",
       "      <td>5.25</td>\n",
       "      <td>NaN</td>\n",
       "      <td>NaN</td>\n",
       "      <td>NaN</td>\n",
       "      <td>NaN</td>\n",
       "      <td>NaN</td>\n",
       "      <td>9.4</td>\n",
       "      <td>NaN</td>\n",
       "    </tr>\n",
       "    <tr>\n",
       "      <th>...</th>\n",
       "      <td>...</td>\n",
       "      <td>...</td>\n",
       "      <td>...</td>\n",
       "      <td>...</td>\n",
       "      <td>...</td>\n",
       "      <td>...</td>\n",
       "      <td>...</td>\n",
       "      <td>...</td>\n",
       "      <td>...</td>\n",
       "      <td>...</td>\n",
       "      <td>...</td>\n",
       "      <td>...</td>\n",
       "      <td>...</td>\n",
       "      <td>...</td>\n",
       "      <td>...</td>\n",
       "      <td>...</td>\n",
       "      <td>...</td>\n",
       "      <td>...</td>\n",
       "    </tr>\n",
       "    <tr>\n",
       "      <th>1740649</th>\n",
       "      <td>64</td>\n",
       "      <td>NaN</td>\n",
       "      <td>Hậu Giang</td>\n",
       "      <td>64006864</td>\n",
       "      <td>NaN</td>\n",
       "      <td>NaN</td>\n",
       "      <td>NaN</td>\n",
       "      <td>NaN</td>\n",
       "      <td>NaN</td>\n",
       "      <td>NaN</td>\n",
       "      <td>NaN</td>\n",
       "      <td>NaN</td>\n",
       "      <td>NaN</td>\n",
       "      <td>NaN</td>\n",
       "      <td>NaN</td>\n",
       "      <td>NaN</td>\n",
       "      <td>NaN</td>\n",
       "      <td>NaN</td>\n",
       "    </tr>\n",
       "    <tr>\n",
       "      <th>1740650</th>\n",
       "      <td>64</td>\n",
       "      <td>NaN</td>\n",
       "      <td>Hậu Giang</td>\n",
       "      <td>64006865</td>\n",
       "      <td>NaN</td>\n",
       "      <td>NaN</td>\n",
       "      <td>NaN</td>\n",
       "      <td>NaN</td>\n",
       "      <td>NaN</td>\n",
       "      <td>NaN</td>\n",
       "      <td>NaN</td>\n",
       "      <td>NaN</td>\n",
       "      <td>NaN</td>\n",
       "      <td>NaN</td>\n",
       "      <td>NaN</td>\n",
       "      <td>NaN</td>\n",
       "      <td>NaN</td>\n",
       "      <td>NaN</td>\n",
       "    </tr>\n",
       "    <tr>\n",
       "      <th>1740651</th>\n",
       "      <td>64</td>\n",
       "      <td>NaN</td>\n",
       "      <td>Hậu Giang</td>\n",
       "      <td>64006866</td>\n",
       "      <td>NaN</td>\n",
       "      <td>NaN</td>\n",
       "      <td>NaN</td>\n",
       "      <td>NaN</td>\n",
       "      <td>NaN</td>\n",
       "      <td>NaN</td>\n",
       "      <td>NaN</td>\n",
       "      <td>NaN</td>\n",
       "      <td>NaN</td>\n",
       "      <td>NaN</td>\n",
       "      <td>NaN</td>\n",
       "      <td>NaN</td>\n",
       "      <td>NaN</td>\n",
       "      <td>NaN</td>\n",
       "    </tr>\n",
       "    <tr>\n",
       "      <th>1740652</th>\n",
       "      <td>64</td>\n",
       "      <td>NaN</td>\n",
       "      <td>Hậu Giang</td>\n",
       "      <td>64006867</td>\n",
       "      <td>NaN</td>\n",
       "      <td>NaN</td>\n",
       "      <td>NaN</td>\n",
       "      <td>NaN</td>\n",
       "      <td>NaN</td>\n",
       "      <td>NaN</td>\n",
       "      <td>NaN</td>\n",
       "      <td>NaN</td>\n",
       "      <td>NaN</td>\n",
       "      <td>NaN</td>\n",
       "      <td>NaN</td>\n",
       "      <td>NaN</td>\n",
       "      <td>NaN</td>\n",
       "      <td>NaN</td>\n",
       "    </tr>\n",
       "    <tr>\n",
       "      <th>1740653</th>\n",
       "      <td>64</td>\n",
       "      <td>NaN</td>\n",
       "      <td>Hậu Giang</td>\n",
       "      <td>64006868</td>\n",
       "      <td>NaN</td>\n",
       "      <td>NaN</td>\n",
       "      <td>NaN</td>\n",
       "      <td>NaN</td>\n",
       "      <td>NaN</td>\n",
       "      <td>NaN</td>\n",
       "      <td>NaN</td>\n",
       "      <td>NaN</td>\n",
       "      <td>NaN</td>\n",
       "      <td>NaN</td>\n",
       "      <td>NaN</td>\n",
       "      <td>NaN</td>\n",
       "      <td>NaN</td>\n",
       "      <td>NaN</td>\n",
       "    </tr>\n",
       "  </tbody>\n",
       "</table>\n",
       "<p>1740654 rows × 18 columns</p>\n",
       "</div>"
      ],
      "text/plain": [
       "         Cụm Thi Họ Tên       Tinh       SBD Ngày sinh Giới tính  Toán (D1)  \\\n",
       "0              1    NaN     Hà Nội   1000001       NaN       NaN        2.2   \n",
       "1              1    NaN     Hà Nội   1000002       NaN       NaN        9.2   \n",
       "2              1    NaN     Hà Nội   1000003       NaN       NaN        4.4   \n",
       "3              1    NaN     Hà Nội   1000004       NaN       NaN        8.4   \n",
       "4              1    NaN     Hà Nội   1000005       NaN       NaN        8.8   \n",
       "...          ...    ...        ...       ...       ...       ...        ...   \n",
       "1740649       64    NaN  Hậu Giang  64006864       NaN       NaN        NaN   \n",
       "1740650       64    NaN  Hậu Giang  64006865       NaN       NaN        NaN   \n",
       "1740651       64    NaN  Hậu Giang  64006866       NaN       NaN        NaN   \n",
       "1740652       64    NaN  Hậu Giang  64006867       NaN       NaN        NaN   \n",
       "1740653       64    NaN  Hậu Giang  64006868       NaN       NaN        NaN   \n",
       "\n",
       "         Ngữ văn (D2)  Vật lí (D3)  Hóa học (D4)  Sinh học (D5)  KHTN (D6)  \\\n",
       "0                3.50          NaN           NaN            NaN        NaN   \n",
       "1                8.25          NaN           NaN            NaN        NaN   \n",
       "2                6.25          NaN           NaN            NaN        NaN   \n",
       "3                6.75         4.00          3.00           3.50        NaN   \n",
       "4                8.25         8.25          5.75           5.25        NaN   \n",
       "...               ...          ...           ...            ...        ...   \n",
       "1740649           NaN          NaN           NaN            NaN        NaN   \n",
       "1740650           NaN          NaN           NaN            NaN        NaN   \n",
       "1740651           NaN          NaN           NaN            NaN        NaN   \n",
       "1740652           NaN          NaN           NaN            NaN        NaN   \n",
       "1740653           NaN          NaN           NaN            NaN        NaN   \n",
       "\n",
       "         Lịch sử (D7)  Địa lí (D8)  GDCD (D9)  KHXH (D10)  Ngoại ngữ (D11)  \\\n",
       "0                2.50         5.50        NaN         NaN              NaN   \n",
       "1                5.75         9.75       9.25         NaN             10.0   \n",
       "2                4.25         4.00        NaN         NaN              NaN   \n",
       "3                 NaN          NaN        NaN         NaN             10.0   \n",
       "4                 NaN          NaN        NaN         NaN              9.4   \n",
       "...               ...          ...        ...         ...              ...   \n",
       "1740649           NaN          NaN        NaN         NaN              NaN   \n",
       "1740650           NaN          NaN        NaN         NaN              NaN   \n",
       "1740651           NaN          NaN        NaN         NaN              NaN   \n",
       "1740652           NaN          NaN        NaN         NaN              NaN   \n",
       "1740653           NaN          NaN        NaN         NaN              NaN   \n",
       "\n",
       "         D12  \n",
       "0        NaN  \n",
       "1        NaN  \n",
       "2        NaN  \n",
       "3        NaN  \n",
       "4        NaN  \n",
       "...      ...  \n",
       "1740649  NaN  \n",
       "1740650  NaN  \n",
       "1740651  NaN  \n",
       "1740652  NaN  \n",
       "1740653  NaN  \n",
       "\n",
       "[1740654 rows x 18 columns]"
      ]
     },
     "execution_count": 144,
     "metadata": {},
     "output_type": "execute_result"
    }
   ],
   "source": [
    "data"
   ]
  },
  {
   "cell_type": "code",
   "execution_count": null,
   "metadata": {},
   "outputs": [],
   "source": [
    "data.to_csv(\"score2021.csv\")"
   ]
  }
 ],
 "metadata": {
  "kernelspec": {
   "display_name": "Python 3",
   "language": "python",
   "name": "python3"
  },
  "language_info": {
   "codemirror_mode": {
    "name": "ipython",
    "version": 3
   },
   "file_extension": ".py",
   "mimetype": "text/x-python",
   "name": "python",
   "nbconvert_exporter": "python",
   "pygments_lexer": "ipython3",
   "version": "3.7.3"
  }
 },
 "nbformat": 4,
 "nbformat_minor": 4
}
